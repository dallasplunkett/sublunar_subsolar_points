{
 "cells": [
  {
   "cell_type": "code",
   "execution_count": 323,
   "id": "cfddb352-7468-4e5e-b28a-17e481f038ee",
   "metadata": {},
   "outputs": [],
   "source": [
    "import requests\n",
    "import datetime\n",
    "import json\n",
    "import time"
   ]
  },
  {
   "cell_type": "markdown",
   "id": "387d566d-89e7-4d92-b803-29301dcbe28e",
   "metadata": {
    "tags": []
   },
   "source": [
    "#### get page as string"
   ]
  },
  {
   "cell_type": "code",
   "execution_count": 311,
   "id": "42cb6e30-7f96-4e40-aa84-186cb0fdac87",
   "metadata": {},
   "outputs": [],
   "source": [
    "url = 'https://www.timeanddate.com/worldclock/sunearth.html'\n",
    "page = requests.get(url).text"
   ]
  },
  {
   "cell_type": "markdown",
   "id": "942a7c19-7edc-47e1-b54a-20ea0375282d",
   "metadata": {
    "tags": []
   },
   "source": [
    "#### narrow down to line"
   ]
  },
  {
   "cell_type": "code",
   "execution_count": 312,
   "id": "cbfd01c8-fd42-416b-a8fa-1b7c56c3b96c",
   "metadata": {},
   "outputs": [],
   "source": [
    "def get_line(text, option):\n",
    "    \n",
    "    if option == 'solar':\n",
    "        search = 'Position of the Sun: Subsolar Point'\n",
    "    else:\n",
    "        search = 'Position of the Moon: Sublunar Point'\n",
    "        \n",
    "    start_index = text.find(search) + len(search) + 5\n",
    "    end_index = text.find('</p>', start_index)\n",
    "    \n",
    "    temp = text[start_index:end_index]\n",
    "    \n",
    "    remove_these = ['<p>', '<tr>', '</tr>', '<td class=r>', '</td>', '<td>', '&nbsp;']\n",
    "    for elem in remove_these:\n",
    "        temp = temp.replace(elem, '')\n",
    "    \n",
    "    return temp.lower()"
   ]
  },
  {
   "cell_type": "code",
   "execution_count": 317,
   "id": "633ba48f-12e6-4fd3-b59c-d8c1010fa50b",
   "metadata": {},
   "outputs": [
    {
     "data": {
      "text/plain": [
       "\"on monday, january 9, 2023 at 00:50:00 utc the moon is at its zenith at latitude: 22°18'north, longitude: 14°05'east\""
      ]
     },
     "execution_count": 317,
     "metadata": {},
     "output_type": "execute_result"
    }
   ],
   "source": [
    "get_line(page, 'lunar')"
   ]
  },
  {
   "cell_type": "code",
   "execution_count": 318,
   "id": "646ec837-553d-49f0-9819-eeebd664bcfb",
   "metadata": {},
   "outputs": [
    {
     "data": {
      "text/plain": [
       "\"on monday, january 9, 2023 at 00:50:00 utc the sun is at its zenith at latitude: 22°10'south, longitude: 169°12'east\""
      ]
     },
     "execution_count": 318,
     "metadata": {},
     "output_type": "execute_result"
    }
   ],
   "source": [
    "get_line(page, 'solar')"
   ]
  },
  {
   "cell_type": "markdown",
   "id": "65b63dcf-02fb-42ea-8a9e-02f8d6f1e4dd",
   "metadata": {
    "tags": []
   },
   "source": [
    "#### extract the datetime"
   ]
  },
  {
   "cell_type": "code",
   "execution_count": 313,
   "id": "7cf81266-f735-4fc9-a136-058c0158ac03",
   "metadata": {},
   "outputs": [],
   "source": [
    "def get_datetime(text):\n",
    "    start_index = text.find(',') + 2\n",
    "    end_index = text.find('utc') - 1\n",
    "    temp = text[start_index:end_index]\n",
    "    fmt = '%B %d, %Y at %H:%M:%S'\n",
    "    return tuple(str(datetime.datetime.strptime(temp, fmt)).split())"
   ]
  },
  {
   "cell_type": "code",
   "execution_count": 319,
   "id": "468ef443-7949-431f-aad6-ee18c805fc68",
   "metadata": {},
   "outputs": [
    {
     "data": {
      "text/plain": [
       "('2023-01-09', '00:50:00')"
      ]
     },
     "execution_count": 319,
     "metadata": {},
     "output_type": "execute_result"
    }
   ],
   "source": [
    "get_datetime(get_line(page, 'lunar'))"
   ]
  },
  {
   "cell_type": "code",
   "execution_count": 320,
   "id": "c5973e6d-a20e-4f35-97a0-b473f51bfbea",
   "metadata": {},
   "outputs": [
    {
     "data": {
      "text/plain": [
       "('2023-01-09', '00:50:00')"
      ]
     },
     "execution_count": 320,
     "metadata": {},
     "output_type": "execute_result"
    }
   ],
   "source": [
    "get_datetime(get_line(page, 'solar'))"
   ]
  },
  {
   "cell_type": "markdown",
   "id": "11fb320e-5889-410e-9ef4-9b8e49ae3d40",
   "metadata": {
    "tags": []
   },
   "source": [
    "#### extract the lat long in decimal degree format\n",
    "\n",
    "Of note, because the soure data does not have the seconds, the approximate max error = 1.847088 km"
   ]
  },
  {
   "cell_type": "code",
   "execution_count": 314,
   "id": "2b33781e-ae33-4ebe-8872-8bb3d2807df7",
   "metadata": {},
   "outputs": [],
   "source": [
    "def get_coord(text):\n",
    "    start_index_lat = text.find('e:') + 3\n",
    "    end_index_lat = text.find(\"'\", start_index_lat)\n",
    "    temp_lat = text[start_index_lat:end_index_lat]\n",
    "    degree_lat, minute_lat = temp_lat.split('°')\n",
    "    dd_lat = round(int(degree_lat) + (int(minute_lat) / 60), 4)\n",
    "    \n",
    "    start_index_long = text.find('e:', end_index_lat) + 3\n",
    "    end_index_long = text.find(\"'\", start_index_long)\n",
    "    temp_long = text[start_index_long:end_index_long]\n",
    "    degree_long, minute_long = temp_long.split('°')\n",
    "    dd_long = round(int(degree_long) + (int(minute_long) / 60), 4)\n",
    "    \n",
    "    return dd_lat, dd_long"
   ]
  },
  {
   "cell_type": "code",
   "execution_count": 321,
   "id": "cfe75005-8527-4900-bebf-df8f3307a5b0",
   "metadata": {},
   "outputs": [
    {
     "data": {
      "text/plain": [
       "(22.3, 14.0833)"
      ]
     },
     "execution_count": 321,
     "metadata": {},
     "output_type": "execute_result"
    }
   ],
   "source": [
    "get_coord(get_line(page, 'lunar'))"
   ]
  },
  {
   "cell_type": "code",
   "execution_count": 322,
   "id": "409c8149-36cb-4803-b775-7514d17e79b0",
   "metadata": {},
   "outputs": [
    {
     "data": {
      "text/plain": [
       "(22.1667, 169.2)"
      ]
     },
     "execution_count": 322,
     "metadata": {},
     "output_type": "execute_result"
    }
   ],
   "source": [
    "get_coord(get_line(page, 'solar'))"
   ]
  },
  {
   "cell_type": "markdown",
   "id": "d7bc1c4f-3f90-4e23-9982-047a65ab37fc",
   "metadata": {
    "tags": []
   },
   "source": [
    "#### construct JSON object"
   ]
  },
  {
   "cell_type": "code",
   "execution_count": 315,
   "id": "a74317cd-d00e-4c34-9640-d774d9208e8b",
   "metadata": {},
   "outputs": [],
   "source": [
    "def make_json():\n",
    "    temp = {\n",
    "        \"moon\": {\n",
    "            \"date\": get_datetime(get_line(page, 'lunar'))[0],\n",
    "            \"time\": get_datetime(get_line(page, 'lunar'))[1],\n",
    "            \"latitude\": get_coord(get_line(page, 'lunar'))[0],\n",
    "            \"longitude\": get_coord(get_line(page, 'lunar'))[1],\n",
    "        },\n",
    "        \"sun\": {\n",
    "            \"date\": get_datetime(get_line(page, 'solar'))[0],\n",
    "            \"time\": get_datetime(get_line(page, 'solar'))[1],\n",
    "            \"latitude\": get_coord(get_line(page, 'solar'))[0],\n",
    "            \"longitude\": get_coord(get_line(page, 'solar'))[1],\n",
    "        }\n",
    "    }\n",
    "    return json.dumps(temp)"
   ]
  },
  {
   "cell_type": "code",
   "execution_count": 316,
   "id": "6ec92c81-c3c1-4a89-91b9-408ea3112aaf",
   "metadata": {},
   "outputs": [
    {
     "data": {
      "text/plain": [
       "'{\"moon\": {\"date\": \"2023-01-09\", \"time\": \"00:50:00\", \"latitude\": 22.3, \"longitude\": 14.0833}, \"sun\": {\"date\": \"2023-01-09\", \"time\": \"00:50:00\", \"latitude\": 22.1667, \"longitude\": 169.2}}'"
      ]
     },
     "execution_count": 316,
     "metadata": {},
     "output_type": "execute_result"
    }
   ],
   "source": [
    "make_json()"
   ]
  },
  {
   "cell_type": "markdown",
   "id": "1194462c-dfc7-4a41-a95a-d895031274df",
   "metadata": {},
   "source": [
    "#### infinte loop idea"
   ]
  },
  {
   "cell_type": "code",
   "execution_count": 327,
   "id": "5ea7e427-966f-4bef-9663-fa9a53f5923f",
   "metadata": {},
   "outputs": [],
   "source": [
    "def main():\n",
    "    while True:\n",
    "        # scrape data\n",
    "        # send data\n",
    "        time.sleep(600) # every 600 seconds (10 minutes) means 144 daily entries."
   ]
  },
  {
   "attachments": {},
   "cell_type": "markdown",
   "id": "d4e6aae1",
   "metadata": {},
   "source": [
    "Do I really need to make these operations into an object?"
   ]
  },
  {
   "cell_type": "code",
   "execution_count": 2,
   "id": "b6104416-72b2-4ffa-a5cb-835f5d058154",
   "metadata": {},
   "outputs": [],
   "source": [
    "class Scraper:\n",
    "    def __init__(self, url):\n",
    "        self.url = url\n",
    "        self.solar_line = ''\n",
    "        self.lunar_line = ''\n",
    "        self.date = 'yyyy-mm-dd'\n",
    "        self.time = 'hh:mm:ss'\n",
    "        self.latitude = 0\n",
    "        self.longitude = 0\n",
    "        self.text = requests.get(url).text\n",
    "        self.data = ''\n",
    "\n",
    "    def set_lines(self, choice):\n",
    "\n",
    "        if choice == ''\n",
    "\n",
    "        identifier = ['Position of the Sun: Subsolar Point', 'Position of the Moon: Sublunar Point']\n",
    "\n",
    "        for i in range(2):\n",
    "    \n",
    "            start_index = self.text.find(identifier[i]) + len(identifier[i]) + 5\n",
    "            end_index = self.text.find('</p>', start_index)\n",
    "            temp_line = self.text[start_index:end_index]\n",
    "    \n",
    "            removables = ['<p>', '<tr>', '</tr>', '<td class=r>', '</td>', '<td>', '&nbsp;']\n",
    "    \n",
    "            for elem in removables:\n",
    "                temp_line = temp_line.replace(elem, '')\n",
    "    \n",
    "            if i == 0: self.solar_line = temp_line\n",
    "            elif i == 1: self.lunar_line = temp_line\n",
    "\n",
    "    def set_datetime(self):\n",
    "        pass\n",
    "\n",
    "    def set_coordinates(self):\n",
    "        pass\n",
    "\n",
    "    def set_data(self):\n",
    "        pass\n",
    "\n",
    "    def run(self, interval):\n",
    "        pass"
   ]
  },
  {
   "cell_type": "code",
   "execution_count": 3,
   "id": "415b7c6f",
   "metadata": {},
   "outputs": [
    {
     "data": {
      "text/plain": [
       "'line test'"
      ]
     },
     "execution_count": 3,
     "metadata": {},
     "output_type": "execute_result"
    }
   ],
   "source": []
  },
  {
   "cell_type": "code",
   "execution_count": null,
   "id": "63dc375b",
   "metadata": {},
   "outputs": [],
   "source": []
  }
 ],
 "metadata": {
  "kernelspec": {
   "display_name": "Python 3",
   "language": "python",
   "name": "python3"
  },
  "language_info": {
   "codemirror_mode": {
    "name": "ipython",
    "version": 3
   },
   "file_extension": ".py",
   "mimetype": "text/x-python",
   "name": "python",
   "nbconvert_exporter": "python",
   "pygments_lexer": "ipython3",
   "version": "3.11.1"
  },
  "vscode": {
   "interpreter": {
    "hash": "5c7b89af1651d0b8571dde13640ecdccf7d5a6204171d6ab33e7c296e100e08a"
   }
  }
 },
 "nbformat": 4,
 "nbformat_minor": 5
}
